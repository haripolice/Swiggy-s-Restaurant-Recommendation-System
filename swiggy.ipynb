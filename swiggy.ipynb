{
 "cells": [
  {
   "cell_type": "markdown",
   "metadata": {},
   "source": [
    "***MINI_PROJECT _4 : Swiggy’s Restaurant Recommendation System using Streamlit***\n",
    "-"
   ]
  },
  {
   "cell_type": "markdown",
   "metadata": {},
   "source": [
    "***IMPORTING THE LIBIRAIES***\n",
    "-"
   ]
  },
  {
   "cell_type": "code",
   "execution_count": 8,
   "metadata": {},
   "outputs": [
    {
     "name": "stdout",
     "output_type": "stream",
     "text": [
      "Defaulting to user installation because normal site-packages is not writeable\n",
      "Requirement already satisfied: plotly_express in c:\\users\\krha1002\\appdata\\roaming\\python\\python313\\site-packages (0.4.1)\n",
      "Requirement already satisfied: pandas>=0.20.0 in c:\\users\\krha1002\\appdata\\roaming\\python\\python313\\site-packages (from plotly_express) (2.3.3)\n",
      "Requirement already satisfied: plotly>=4.1.0 in c:\\users\\krha1002\\appdata\\roaming\\python\\python313\\site-packages (from plotly_express) (6.3.1)\n",
      "Requirement already satisfied: statsmodels>=0.9.0 in c:\\users\\krha1002\\appdata\\roaming\\python\\python313\\site-packages (from plotly_express) (0.14.5)\n",
      "Requirement already satisfied: scipy>=0.18 in c:\\users\\krha1002\\appdata\\roaming\\python\\python313\\site-packages (from plotly_express) (1.16.2)\n",
      "Requirement already satisfied: patsy>=0.5 in c:\\users\\krha1002\\appdata\\roaming\\python\\python313\\site-packages (from plotly_express) (1.0.2)\n",
      "Requirement already satisfied: numpy>=1.11 in c:\\users\\krha1002\\appdata\\roaming\\python\\python313\\site-packages (from plotly_express) (2.3.3)\n",
      "Requirement already satisfied: python-dateutil>=2.8.2 in c:\\users\\krha1002\\appdata\\roaming\\python\\python313\\site-packages (from pandas>=0.20.0->plotly_express) (2.9.0.post0)\n",
      "Requirement already satisfied: pytz>=2020.1 in c:\\users\\krha1002\\appdata\\roaming\\python\\python313\\site-packages (from pandas>=0.20.0->plotly_express) (2025.2)\n",
      "Requirement already satisfied: tzdata>=2022.7 in c:\\users\\krha1002\\appdata\\roaming\\python\\python313\\site-packages (from pandas>=0.20.0->plotly_express) (2025.2)\n",
      "Requirement already satisfied: narwhals>=1.15.1 in c:\\users\\krha1002\\appdata\\roaming\\python\\python313\\site-packages (from plotly>=4.1.0->plotly_express) (2.8.0)\n",
      "Requirement already satisfied: packaging in c:\\users\\krha1002\\appdata\\roaming\\python\\python313\\site-packages (from plotly>=4.1.0->plotly_express) (25.0)\n",
      "Requirement already satisfied: six>=1.5 in c:\\users\\krha1002\\appdata\\roaming\\python\\python313\\site-packages (from python-dateutil>=2.8.2->pandas>=0.20.0->plotly_express) (1.17.0)\n"
     ]
    },
    {
     "name": "stderr",
     "output_type": "stream",
     "text": [
      "\n",
      "[notice] A new release of pip is available: 25.2 -> 25.3\n",
      "[notice] To update, run: C:\\Program Files\\Python313\\python.exe -m pip install --upgrade pip\n"
     ]
    }
   ],
   "source": [
    "!pip install plotly_express"
   ]
  },
  {
   "cell_type": "code",
   "execution_count": 9,
   "metadata": {},
   "outputs": [],
   "source": [
    "import pandas as pd\n",
    "import matplotlib.pyplot as plt\n",
    "import seaborn as sns\n",
    "import scipy.stats as stats\n",
    "import warnings\n",
    "warnings.filterwarnings(\"ignore\")\n",
    "import plotly.express as px\n",
    "from sklearn.cluster import KMeans\n",
    "from sklearn.preprocessing import OneHotEncoder\n",
    "from sklearn.preprocessing import MultiLabelBinarizer\n",
    "import pickle\n",
    "from sklearn.cluster import KMeans\n",
    "from sklearn.preprocessing import StandardScaler\n",
    "from sklearn.decomposition import PCA"
   ]
  },
  {
   "cell_type": "markdown",
   "metadata": {},
   "source": [
    "***TO READ THE CSV FILE***"
   ]
  },
  {
   "cell_type": "code",
   "execution_count": 10,
   "metadata": {},
   "outputs": [],
   "source": [
    "data = pd.read_csv(r\"C:\\Users\\KRHA1002\\OneDrive - Nielsen IQ\\Profile\\GUVI\\Project 4\\swiggy.csv\")"
   ]
  },
  {
   "cell_type": "markdown",
   "metadata": {},
   "source": [
    "***TO VIEW THE FIRST 5 ROWS***"
   ]
  },
  {
   "cell_type": "code",
   "execution_count": 11,
   "metadata": {},
   "outputs": [
    {
     "data": {
      "text/html": [
       "<div>\n",
       "<style scoped>\n",
       "    .dataframe tbody tr th:only-of-type {\n",
       "        vertical-align: middle;\n",
       "    }\n",
       "\n",
       "    .dataframe tbody tr th {\n",
       "        vertical-align: top;\n",
       "    }\n",
       "\n",
       "    .dataframe thead th {\n",
       "        text-align: right;\n",
       "    }\n",
       "</style>\n",
       "<table border=\"1\" class=\"dataframe\">\n",
       "  <thead>\n",
       "    <tr style=\"text-align: right;\">\n",
       "      <th></th>\n",
       "      <th>id</th>\n",
       "      <th>name</th>\n",
       "      <th>city</th>\n",
       "      <th>rating</th>\n",
       "      <th>rating_count</th>\n",
       "      <th>cost</th>\n",
       "      <th>cuisine</th>\n",
       "      <th>lic_no</th>\n",
       "      <th>link</th>\n",
       "      <th>address</th>\n",
       "      <th>menu</th>\n",
       "    </tr>\n",
       "  </thead>\n",
       "  <tbody>\n",
       "    <tr>\n",
       "      <th>0</th>\n",
       "      <td>567335</td>\n",
       "      <td>AB FOODS POINT</td>\n",
       "      <td>Abohar</td>\n",
       "      <td>--</td>\n",
       "      <td>Too Few Ratings</td>\n",
       "      <td>₹ 200</td>\n",
       "      <td>Beverages,Pizzas</td>\n",
       "      <td>22122652000138</td>\n",
       "      <td>https://www.swiggy.com/restaurants/ab-foods-po...</td>\n",
       "      <td>AB FOODS POINT, NEAR RISHI NARANG DENTAL CLINI...</td>\n",
       "      <td>Menu/567335.json</td>\n",
       "    </tr>\n",
       "    <tr>\n",
       "      <th>1</th>\n",
       "      <td>531342</td>\n",
       "      <td>Janta Sweet House</td>\n",
       "      <td>Abohar</td>\n",
       "      <td>4.4</td>\n",
       "      <td>50+ ratings</td>\n",
       "      <td>₹ 200</td>\n",
       "      <td>Sweets,Bakery</td>\n",
       "      <td>12117201000112</td>\n",
       "      <td>https://www.swiggy.com/restaurants/janta-sweet...</td>\n",
       "      <td>Janta Sweet House, Bazar No.9, Circullar Road,...</td>\n",
       "      <td>Menu/531342.json</td>\n",
       "    </tr>\n",
       "    <tr>\n",
       "      <th>2</th>\n",
       "      <td>158203</td>\n",
       "      <td>theka coffee desi</td>\n",
       "      <td>Abohar</td>\n",
       "      <td>3.8</td>\n",
       "      <td>100+ ratings</td>\n",
       "      <td>₹ 100</td>\n",
       "      <td>Beverages</td>\n",
       "      <td>22121652000190</td>\n",
       "      <td>https://www.swiggy.com/restaurants/theka-coffe...</td>\n",
       "      <td>theka coffee desi, sahtiya sadan road city</td>\n",
       "      <td>Menu/158203.json</td>\n",
       "    </tr>\n",
       "    <tr>\n",
       "      <th>3</th>\n",
       "      <td>187912</td>\n",
       "      <td>Singh Hut</td>\n",
       "      <td>Abohar</td>\n",
       "      <td>3.7</td>\n",
       "      <td>20+ ratings</td>\n",
       "      <td>₹ 250</td>\n",
       "      <td>Fast Food,Indian</td>\n",
       "      <td>22119652000167</td>\n",
       "      <td>https://www.swiggy.com/restaurants/singh-hut-n...</td>\n",
       "      <td>Singh Hut, CIRCULAR ROAD NEAR NEHRU PARK ABOHAR</td>\n",
       "      <td>Menu/187912.json</td>\n",
       "    </tr>\n",
       "    <tr>\n",
       "      <th>4</th>\n",
       "      <td>543530</td>\n",
       "      <td>GRILL MASTERS</td>\n",
       "      <td>Abohar</td>\n",
       "      <td>--</td>\n",
       "      <td>Too Few Ratings</td>\n",
       "      <td>₹ 250</td>\n",
       "      <td>Italian-American,Fast Food</td>\n",
       "      <td>12122201000053</td>\n",
       "      <td>https://www.swiggy.com/restaurants/grill-maste...</td>\n",
       "      <td>GRILL MASTERS, ADA Heights, Abohar - Hanumanga...</td>\n",
       "      <td>Menu/543530.json</td>\n",
       "    </tr>\n",
       "  </tbody>\n",
       "</table>\n",
       "</div>"
      ],
      "text/plain": [
       "       id               name    city rating     rating_count   cost  \\\n",
       "0  567335     AB FOODS POINT  Abohar     --  Too Few Ratings  ₹ 200   \n",
       "1  531342  Janta Sweet House  Abohar    4.4      50+ ratings  ₹ 200   \n",
       "2  158203  theka coffee desi  Abohar    3.8     100+ ratings  ₹ 100   \n",
       "3  187912          Singh Hut  Abohar    3.7      20+ ratings  ₹ 250   \n",
       "4  543530      GRILL MASTERS  Abohar     --  Too Few Ratings  ₹ 250   \n",
       "\n",
       "                      cuisine          lic_no  \\\n",
       "0            Beverages,Pizzas  22122652000138   \n",
       "1               Sweets,Bakery  12117201000112   \n",
       "2                   Beverages  22121652000190   \n",
       "3            Fast Food,Indian  22119652000167   \n",
       "4  Italian-American,Fast Food  12122201000053   \n",
       "\n",
       "                                                link  \\\n",
       "0  https://www.swiggy.com/restaurants/ab-foods-po...   \n",
       "1  https://www.swiggy.com/restaurants/janta-sweet...   \n",
       "2  https://www.swiggy.com/restaurants/theka-coffe...   \n",
       "3  https://www.swiggy.com/restaurants/singh-hut-n...   \n",
       "4  https://www.swiggy.com/restaurants/grill-maste...   \n",
       "\n",
       "                                             address              menu  \n",
       "0  AB FOODS POINT, NEAR RISHI NARANG DENTAL CLINI...  Menu/567335.json  \n",
       "1  Janta Sweet House, Bazar No.9, Circullar Road,...  Menu/531342.json  \n",
       "2         theka coffee desi, sahtiya sadan road city  Menu/158203.json  \n",
       "3    Singh Hut, CIRCULAR ROAD NEAR NEHRU PARK ABOHAR  Menu/187912.json  \n",
       "4  GRILL MASTERS, ADA Heights, Abohar - Hanumanga...  Menu/543530.json  "
      ]
     },
     "execution_count": 11,
     "metadata": {},
     "output_type": "execute_result"
    }
   ],
   "source": [
    "data.head(5)"
   ]
  },
  {
   "cell_type": "markdown",
   "metadata": {},
   "source": [
    "***TO VIEW THE LAST FIVE ROWS***"
   ]
  },
  {
   "cell_type": "code",
   "execution_count": 12,
   "metadata": {},
   "outputs": [
    {
     "data": {
      "text/html": [
       "<div>\n",
       "<style scoped>\n",
       "    .dataframe tbody tr th:only-of-type {\n",
       "        vertical-align: middle;\n",
       "    }\n",
       "\n",
       "    .dataframe tbody tr th {\n",
       "        vertical-align: top;\n",
       "    }\n",
       "\n",
       "    .dataframe thead th {\n",
       "        text-align: right;\n",
       "    }\n",
       "</style>\n",
       "<table border=\"1\" class=\"dataframe\">\n",
       "  <thead>\n",
       "    <tr style=\"text-align: right;\">\n",
       "      <th></th>\n",
       "      <th>id</th>\n",
       "      <th>name</th>\n",
       "      <th>city</th>\n",
       "      <th>rating</th>\n",
       "      <th>rating_count</th>\n",
       "      <th>cost</th>\n",
       "      <th>cuisine</th>\n",
       "      <th>lic_no</th>\n",
       "      <th>link</th>\n",
       "      <th>address</th>\n",
       "      <th>menu</th>\n",
       "    </tr>\n",
       "  </thead>\n",
       "  <tbody>\n",
       "    <tr>\n",
       "      <th>148536</th>\n",
       "      <td>553122</td>\n",
       "      <td>The Food Delight</td>\n",
       "      <td>Yavatmal</td>\n",
       "      <td>--</td>\n",
       "      <td>Too Few Ratings</td>\n",
       "      <td>₹ 200</td>\n",
       "      <td>Fast Food,Snacks</td>\n",
       "      <td>21522053000452</td>\n",
       "      <td>https://www.swiggy.com/restaurants/the-food-de...</td>\n",
       "      <td>The Food Delight, 94MC+X35, New Singhania Naga...</td>\n",
       "      <td>Menu/553122.json</td>\n",
       "    </tr>\n",
       "    <tr>\n",
       "      <th>148537</th>\n",
       "      <td>562647</td>\n",
       "      <td>MAITRI FOODS &amp; BEVERAGES</td>\n",
       "      <td>Yavatmal</td>\n",
       "      <td>--</td>\n",
       "      <td>Too Few Ratings</td>\n",
       "      <td>₹ 300</td>\n",
       "      <td>Pizzas</td>\n",
       "      <td>license</td>\n",
       "      <td>https://www.swiggy.com/restaurants/maitri-food...</td>\n",
       "      <td>MAITRI FOODS &amp; BEVERAGES, POLIC MITRYA SOCIETY...</td>\n",
       "      <td>Menu/562647.json</td>\n",
       "    </tr>\n",
       "    <tr>\n",
       "      <th>148538</th>\n",
       "      <td>559435</td>\n",
       "      <td>Cafe Bella Ciao</td>\n",
       "      <td>Yavatmal</td>\n",
       "      <td>--</td>\n",
       "      <td>Too Few Ratings</td>\n",
       "      <td>₹ 300</td>\n",
       "      <td>Fast Food,Snacks</td>\n",
       "      <td>21522251000378</td>\n",
       "      <td>https://www.swiggy.com/restaurants/cafe-bella-...</td>\n",
       "      <td>Cafe Bella Ciao, SHOP NO 2 NEMANI MARKET SBI S...</td>\n",
       "      <td>Menu/559435.json</td>\n",
       "    </tr>\n",
       "    <tr>\n",
       "      <th>148539</th>\n",
       "      <td>418989</td>\n",
       "      <td>GRILL ZILLA</td>\n",
       "      <td>Yavatmal</td>\n",
       "      <td>--</td>\n",
       "      <td>Too Few Ratings</td>\n",
       "      <td>₹ 250</td>\n",
       "      <td>Continental</td>\n",
       "      <td>21521251000241</td>\n",
       "      <td>https://www.swiggy.com/restaurants/grill-zilla...</td>\n",
       "      <td>GRILL ZILLA, SHO NO 2/6, POSTEL GROUND CHOWPAT...</td>\n",
       "      <td>Menu/418989.json</td>\n",
       "    </tr>\n",
       "    <tr>\n",
       "      <th>148540</th>\n",
       "      <td>447770</td>\n",
       "      <td>Lazeez kitchen</td>\n",
       "      <td>Yavatmal</td>\n",
       "      <td>--</td>\n",
       "      <td>Too Few Ratings</td>\n",
       "      <td>₹ 200</td>\n",
       "      <td>Pizzas</td>\n",
       "      <td>21521251000634</td>\n",
       "      <td>https://www.swiggy.com/restaurants/lazeez-kitc...</td>\n",
       "      <td>Lazeez kitchen, 94G3+2RR, Wadgaon, Yavatmal, M...</td>\n",
       "      <td>Menu/447770.json</td>\n",
       "    </tr>\n",
       "  </tbody>\n",
       "</table>\n",
       "</div>"
      ],
      "text/plain": [
       "            id                      name      city rating     rating_count  \\\n",
       "148536  553122          The Food Delight  Yavatmal     --  Too Few Ratings   \n",
       "148537  562647  MAITRI FOODS & BEVERAGES  Yavatmal     --  Too Few Ratings   \n",
       "148538  559435           Cafe Bella Ciao  Yavatmal     --  Too Few Ratings   \n",
       "148539  418989               GRILL ZILLA  Yavatmal     --  Too Few Ratings   \n",
       "148540  447770            Lazeez kitchen  Yavatmal     --  Too Few Ratings   \n",
       "\n",
       "         cost           cuisine          lic_no  \\\n",
       "148536  ₹ 200  Fast Food,Snacks  21522053000452   \n",
       "148537  ₹ 300            Pizzas         license   \n",
       "148538  ₹ 300  Fast Food,Snacks  21522251000378   \n",
       "148539  ₹ 250       Continental  21521251000241   \n",
       "148540  ₹ 200            Pizzas  21521251000634   \n",
       "\n",
       "                                                     link  \\\n",
       "148536  https://www.swiggy.com/restaurants/the-food-de...   \n",
       "148537  https://www.swiggy.com/restaurants/maitri-food...   \n",
       "148538  https://www.swiggy.com/restaurants/cafe-bella-...   \n",
       "148539  https://www.swiggy.com/restaurants/grill-zilla...   \n",
       "148540  https://www.swiggy.com/restaurants/lazeez-kitc...   \n",
       "\n",
       "                                                  address              menu  \n",
       "148536  The Food Delight, 94MC+X35, New Singhania Naga...  Menu/553122.json  \n",
       "148537  MAITRI FOODS & BEVERAGES, POLIC MITRYA SOCIETY...  Menu/562647.json  \n",
       "148538  Cafe Bella Ciao, SHOP NO 2 NEMANI MARKET SBI S...  Menu/559435.json  \n",
       "148539  GRILL ZILLA, SHO NO 2/6, POSTEL GROUND CHOWPAT...  Menu/418989.json  \n",
       "148540  Lazeez kitchen, 94G3+2RR, Wadgaon, Yavatmal, M...  Menu/447770.json  "
      ]
     },
     "execution_count": 12,
     "metadata": {},
     "output_type": "execute_result"
    }
   ],
   "source": [
    "data.tail(5)"
   ]
  },
  {
   "cell_type": "markdown",
   "metadata": {},
   "source": [
    "***TO FIND THE SHAPE OF THE DATASET***"
   ]
  },
  {
   "cell_type": "code",
   "execution_count": 13,
   "metadata": {},
   "outputs": [
    {
     "data": {
      "text/plain": [
       "(148541, 11)"
      ]
     },
     "execution_count": 13,
     "metadata": {},
     "output_type": "execute_result"
    }
   ],
   "source": [
    "data.shape"
   ]
  },
  {
   "cell_type": "markdown",
   "metadata": {},
   "source": [
    "***Columns Explanation:***\n",
    "-\n",
    ">id: Unique identifier for each restaurant.\n",
    "\n",
    ">name: Name of the restaurant.\n",
    "\n",
    ">city: City where the restaurant is located.\n",
    "\n",
    ">rating: Average customer rating of the restaurant (out of 5 stars). If the restaurant has too few ratings, the value like this \"--\".\n",
    "\n",
    ">rating_count: The number of ratings received by the restaurant (e.g., \"50+ ratings\" means it has received at least 50 ratings).\n",
    "\n",
    ">cost: The approximate cost for two people at the restaurant (e.g., ₹200 means an average meal costs ₹200).\n",
    "\n",
    ">cuisine: Type of cuisine offered (e.g., Beverages, Pizzas, Sweets, Fast Food, Indian).\n",
    "\n",
    ">lic_no: License number of the restaurant, possibly related to food safety regulations.\n",
    "\n",
    ">link: URL to the restaurant’s Swiggy page.\n",
    "\n",
    ">address: location of the restaurant.\n",
    "\n",
    ">menu: File path to a JSON menu file containing detailed menu items for the restaurant\n",
    "\n",
    "\n",
    "\n"
   ]
  },
  {
   "cell_type": "markdown",
   "metadata": {},
   "source": [
    "***TO FIND THE INFORMATION OF THE DATASET***"
   ]
  },
  {
   "cell_type": "code",
   "execution_count": 14,
   "metadata": {},
   "outputs": [
    {
     "name": "stdout",
     "output_type": "stream",
     "text": [
      "<class 'pandas.core.frame.DataFrame'>\n",
      "RangeIndex: 148541 entries, 0 to 148540\n",
      "Data columns (total 11 columns):\n",
      " #   Column        Non-Null Count   Dtype \n",
      "---  ------        --------------   ----- \n",
      " 0   id            148541 non-null  int64 \n",
      " 1   name          148455 non-null  object\n",
      " 2   city          148541 non-null  object\n",
      " 3   rating        148455 non-null  object\n",
      " 4   rating_count  148455 non-null  object\n",
      " 5   cost          148410 non-null  object\n",
      " 6   cuisine       148442 non-null  object\n",
      " 7   lic_no        148312 non-null  object\n",
      " 8   link          148541 non-null  object\n",
      " 9   address       148455 non-null  object\n",
      " 10  menu          148541 non-null  object\n",
      "dtypes: int64(1), object(10)\n",
      "memory usage: 12.5+ MB\n"
     ]
    }
   ],
   "source": [
    "data.info()"
   ]
  },
  {
   "cell_type": "markdown",
   "metadata": {},
   "source": [
    "***TO IDENTIFY THE DETAILS FOR CATEGORICAL CLOUMNS***\n",
    "-"
   ]
  },
  {
   "cell_type": "code",
   "execution_count": 15,
   "metadata": {},
   "outputs": [
    {
     "data": {
      "text/html": [
       "<div>\n",
       "<style scoped>\n",
       "    .dataframe tbody tr th:only-of-type {\n",
       "        vertical-align: middle;\n",
       "    }\n",
       "\n",
       "    .dataframe tbody tr th {\n",
       "        vertical-align: top;\n",
       "    }\n",
       "\n",
       "    .dataframe thead th {\n",
       "        text-align: right;\n",
       "    }\n",
       "</style>\n",
       "<table border=\"1\" class=\"dataframe\">\n",
       "  <thead>\n",
       "    <tr style=\"text-align: right;\">\n",
       "      <th></th>\n",
       "      <th>name</th>\n",
       "      <th>city</th>\n",
       "      <th>rating</th>\n",
       "      <th>rating_count</th>\n",
       "      <th>cost</th>\n",
       "      <th>cuisine</th>\n",
       "      <th>lic_no</th>\n",
       "      <th>link</th>\n",
       "      <th>address</th>\n",
       "      <th>menu</th>\n",
       "    </tr>\n",
       "  </thead>\n",
       "  <tbody>\n",
       "    <tr>\n",
       "      <th>count</th>\n",
       "      <td>148455</td>\n",
       "      <td>148541</td>\n",
       "      <td>148455</td>\n",
       "      <td>148455</td>\n",
       "      <td>148410</td>\n",
       "      <td>148442</td>\n",
       "      <td>148312</td>\n",
       "      <td>148541</td>\n",
       "      <td>148455</td>\n",
       "      <td>148541</td>\n",
       "    </tr>\n",
       "    <tr>\n",
       "      <th>unique</th>\n",
       "      <td>112818</td>\n",
       "      <td>821</td>\n",
       "      <td>42</td>\n",
       "      <td>8</td>\n",
       "      <td>363</td>\n",
       "      <td>2132</td>\n",
       "      <td>108763</td>\n",
       "      <td>148541</td>\n",
       "      <td>148401</td>\n",
       "      <td>148541</td>\n",
       "    </tr>\n",
       "    <tr>\n",
       "      <th>top</th>\n",
       "      <td>Domino's Pizza</td>\n",
       "      <td>Bikaner</td>\n",
       "      <td>--</td>\n",
       "      <td>Too Few Ratings</td>\n",
       "      <td>₹ 200</td>\n",
       "      <td>North Indian,Chinese</td>\n",
       "      <td>license</td>\n",
       "      <td>https://www.swiggy.com/restaurants/ab-foods-po...</td>\n",
       "      <td>Gold Star Biryani, RS Road Dindigul - 624001</td>\n",
       "      <td>Menu/567335.json</td>\n",
       "    </tr>\n",
       "    <tr>\n",
       "      <th>freq</th>\n",
       "      <td>442</td>\n",
       "      <td>1666</td>\n",
       "      <td>87014</td>\n",
       "      <td>87014</td>\n",
       "      <td>38635</td>\n",
       "      <td>6471</td>\n",
       "      <td>12861</td>\n",
       "      <td>1</td>\n",
       "      <td>3</td>\n",
       "      <td>1</td>\n",
       "    </tr>\n",
       "  </tbody>\n",
       "</table>\n",
       "</div>"
      ],
      "text/plain": [
       "                  name     city  rating     rating_count    cost  \\\n",
       "count           148455   148541  148455           148455  148410   \n",
       "unique          112818      821      42                8     363   \n",
       "top     Domino's Pizza  Bikaner      --  Too Few Ratings   ₹ 200   \n",
       "freq               442     1666   87014            87014   38635   \n",
       "\n",
       "                     cuisine   lic_no  \\\n",
       "count                 148442   148312   \n",
       "unique                  2132   108763   \n",
       "top     North Indian,Chinese  license   \n",
       "freq                    6471    12861   \n",
       "\n",
       "                                                     link  \\\n",
       "count                                              148541   \n",
       "unique                                             148541   \n",
       "top     https://www.swiggy.com/restaurants/ab-foods-po...   \n",
       "freq                                                    1   \n",
       "\n",
       "                                             address              menu  \n",
       "count                                         148455            148541  \n",
       "unique                                        148401            148541  \n",
       "top     Gold Star Biryani, RS Road Dindigul - 624001  Menu/567335.json  \n",
       "freq                                               3                 1  "
      ]
     },
     "execution_count": 15,
     "metadata": {},
     "output_type": "execute_result"
    }
   ],
   "source": [
    "data.describe(include=object)"
   ]
  },
  {
   "cell_type": "markdown",
   "metadata": {},
   "source": [
    "***TO IDENTIFY THE NULL VALUES AND WITH PERCENTAGE***"
   ]
  },
  {
   "cell_type": "code",
   "execution_count": 16,
   "metadata": {},
   "outputs": [
    {
     "name": "stdout",
     "output_type": "stream",
     "text": [
      "              Null Count  Null Percentage\n",
      "id                     0         0.000000\n",
      "name                  86         0.057896\n",
      "city                   0         0.000000\n",
      "rating                86         0.057896\n",
      "rating_count          86         0.057896\n",
      "cost                 131         0.088191\n",
      "cuisine               99         0.066648\n",
      "lic_no               229         0.154166\n",
      "link                   0         0.000000\n",
      "address               86         0.057896\n",
      "menu                   0         0.000000\n"
     ]
    }
   ],
   "source": [
    "\n",
    "# Calculate null values count\n",
    "null_counts = data.isnull().sum()\n",
    "\n",
    "# Calculate percentage of null values\n",
    "null_percentage = (null_counts / len(data)) *100\n",
    "\n",
    "# Combine both into a DataFrame\n",
    "null_info = pd.DataFrame({'Null Count': null_counts, 'Null Percentage': null_percentage})\n",
    "\n",
    "print(null_info)"
   ]
  },
  {
   "cell_type": "markdown",
   "metadata": {},
   "source": [
    "***TO IDENTIFY THE DUPLICATED VALUES***"
   ]
  },
  {
   "cell_type": "code",
   "execution_count": 17,
   "metadata": {},
   "outputs": [
    {
     "data": {
      "text/html": [
       "<div>\n",
       "<style scoped>\n",
       "    .dataframe tbody tr th:only-of-type {\n",
       "        vertical-align: middle;\n",
       "    }\n",
       "\n",
       "    .dataframe tbody tr th {\n",
       "        vertical-align: top;\n",
       "    }\n",
       "\n",
       "    .dataframe thead th {\n",
       "        text-align: right;\n",
       "    }\n",
       "</style>\n",
       "<table border=\"1\" class=\"dataframe\">\n",
       "  <thead>\n",
       "    <tr style=\"text-align: right;\">\n",
       "      <th></th>\n",
       "      <th>id</th>\n",
       "      <th>name</th>\n",
       "      <th>city</th>\n",
       "      <th>rating</th>\n",
       "      <th>rating_count</th>\n",
       "      <th>cost</th>\n",
       "      <th>cuisine</th>\n",
       "      <th>lic_no</th>\n",
       "      <th>link</th>\n",
       "      <th>address</th>\n",
       "      <th>menu</th>\n",
       "    </tr>\n",
       "  </thead>\n",
       "  <tbody>\n",
       "  </tbody>\n",
       "</table>\n",
       "</div>"
      ],
      "text/plain": [
       "Empty DataFrame\n",
       "Columns: [id, name, city, rating, rating_count, cost, cuisine, lic_no, link, address, menu]\n",
       "Index: []"
      ]
     },
     "execution_count": 17,
     "metadata": {},
     "output_type": "execute_result"
    }
   ],
   "source": [
    "data[data.duplicated()]"
   ]
  },
  {
   "cell_type": "markdown",
   "metadata": {},
   "source": [
    "***DATA CLEANING PROCESS***\n",
    "-"
   ]
  },
  {
   "cell_type": "markdown",
   "metadata": {},
   "source": [
    "**Hint:** Now the rating , rating_count and cost cloumns are in object type , but we need this 3 cloumns for in numerical\n",
    "Before convert to numerical we have some text in this cloumn we remove or modifed and after we can convert into numerical\n",
    "-\n"
   ]
  },
  {
   "cell_type": "markdown",
   "metadata": {},
   "source": [
    "***To identify the unquie values for this 3 cloumns***"
   ]
  },
  {
   "cell_type": "code",
   "execution_count": 18,
   "metadata": {},
   "outputs": [
    {
     "data": {
      "text/plain": [
       "array(['--', '4.4', '3.8', '3.7', '3.6', '4.0', '4.2', '4.7', '4.1',\n",
       "       '3.5', '3.1', '3.4', '3.3', '4.8', '3.9', '2.7', '4.3', '2.9',\n",
       "       '4.5', '2.5', '3.2', '2.4', '4.6', '3.0', '2.8', '2.3', '5.0',\n",
       "       '2.6', '2.2', '1.4', '1.9', '4.9', '2.1', '1.3', '2.0', '1.8',\n",
       "       '1.6', '1.1', '1.5', nan, '1.0', '1.2', '1.7'], dtype=object)"
      ]
     },
     "execution_count": 18,
     "metadata": {},
     "output_type": "execute_result"
    }
   ],
   "source": [
    "# To check the unquie value for rating cloumn\n",
    "data[\"rating\"].unique()"
   ]
  },
  {
   "cell_type": "code",
   "execution_count": 19,
   "metadata": {},
   "outputs": [
    {
     "data": {
      "text/plain": [
       "rating\n",
       "--     87014\n",
       "4.0     6532\n",
       "4.1     6296\n",
       "4.2     5821\n",
       "3.8     5736\n",
       "3.9     5435\n",
       "4.3     5011\n",
       "3.7     4253\n",
       "4.4     3149\n",
       "3.5     2963\n",
       "3.6     2925\n",
       "3.4     1879\n",
       "3.3     1801\n",
       "4.5     1778\n",
       "4.6     1334\n",
       "3.2     1202\n",
       "3.0      859\n",
       "3.1      791\n",
       "4.7      648\n",
       "2.8      473\n",
       "2.9      472\n",
       "4.8      338\n",
       "2.7      325\n",
       "2.5      221\n",
       "5.0      209\n",
       "2.6      208\n",
       "4.9      174\n",
       "2.3      128\n",
       "2.4      118\n",
       "2.2       89\n",
       "2.0       72\n",
       "2.1       61\n",
       "1.9       46\n",
       "1.8       27\n",
       "1.5       18\n",
       "1.6       17\n",
       "1.7       13\n",
       "1.4       10\n",
       "1.2        4\n",
       "1.3        3\n",
       "1.1        1\n",
       "1.0        1\n",
       "Name: count, dtype: int64"
      ]
     },
     "execution_count": 19,
     "metadata": {},
     "output_type": "execute_result"
    }
   ],
   "source": [
    "data[\"rating\"].value_counts()"
   ]
  },
  {
   "cell_type": "markdown",
   "metadata": {},
   "source": [
    "***from this rating cloumn we have a some values like '--', so we do some modification in this cloumn before converting numerical***\n",
    "-"
   ]
  },
  {
   "cell_type": "code",
   "execution_count": 20,
   "metadata": {},
   "outputs": [
    {
     "data": {
      "text/plain": [
       "array(['Too Few Ratings', '50+ ratings', '100+ ratings', '20+ ratings',\n",
       "       '500+ ratings', '1K+ ratings', '5K+ ratings', nan, '10K+ ratings'],\n",
       "      dtype=object)"
      ]
     },
     "execution_count": 20,
     "metadata": {},
     "output_type": "execute_result"
    }
   ],
   "source": [
    "# To check the unqiue values for rating_count cloumn\n",
    "data[\"rating_count\"].unique()"
   ]
  },
  {
   "cell_type": "code",
   "execution_count": 21,
   "metadata": {},
   "outputs": [
    {
     "data": {
      "text/plain": [
       "rating_count\n",
       "Too Few Ratings    87014\n",
       "20+ ratings        21636\n",
       "100+ ratings       20548\n",
       "50+ ratings        12009\n",
       "500+ ratings        4396\n",
       "1K+ ratings         2739\n",
       "5K+ ratings           98\n",
       "10K+ ratings          15\n",
       "Name: count, dtype: int64"
      ]
     },
     "execution_count": 21,
     "metadata": {},
     "output_type": "execute_result"
    }
   ],
   "source": [
    "data[\"rating_count\"].value_counts()"
   ]
  },
  {
   "cell_type": "markdown",
   "metadata": {},
   "source": [
    "***from this rating_count cloumn we have a some values like 'Too Few Ratings, 50+ and K also present , so we can remove in this cloumn before converting numerical***\n",
    "-"
   ]
  },
  {
   "cell_type": "code",
   "execution_count": 22,
   "metadata": {},
   "outputs": [
    {
     "data": {
      "text/plain": [
       "array(['₹ 200', '₹ 100', '₹ 250', '₹ 150', '₹ 300', '₹ 700', '₹ 650',\n",
       "       '₹ 400', '₹ 350', '₹ 60', '₹ 110', '₹ 399', '₹ 249', '₹ 500',\n",
       "       '₹ 99', '₹ 120', '₹ 499', '₹ 299', '₹ 199', '₹ 50', '₹ 180',\n",
       "       '₹ 349', '₹ 1000', '₹ 599', '₹ 600', '₹ 800', '₹ 450', '₹ 149',\n",
       "       '₹ 290', '₹ 175', '₹ 125', '₹ 8', '₹ 375', '₹ 275', '₹ 425',\n",
       "       '₹ 225', '₹ 325', '₹ 75', '₹ 160', '₹ 550', '₹ 220', '₹ 20',\n",
       "       '₹ 59', '₹ 1200', '₹ 210', '₹ 30', '₹ 310', '₹ 70', '₹ 170',\n",
       "       '₹ 449', '₹ 280', '₹ 320', '₹ 1300', '₹ 850', '₹ 900', '₹ 40',\n",
       "       '₹ 1500', '₹ 140', '₹ 1100', '₹ 410', '₹ 80', '₹ 10', '₹ 1245',\n",
       "       '₹ 510', '₹ 90', '₹ 260', '₹ 1800', '₹ 5', '₹ 240', '₹ 460',\n",
       "       '₹ 1900', '₹ 352', '₹ 298', '₹ 2', '₹ 252', '₹ 330', '₹ 750',\n",
       "       '₹ 130', '₹ 2000', '₹ 198', '₹ 230', '₹ 999', '₹ 3999', nan,\n",
       "       '₹ 235', '₹ 1600', '₹ 55', '₹ 179', '₹ 129', '₹ 360', '₹ 85',\n",
       "       '₹ 248', '₹ 270', '₹ 25', '₹ 159', '₹ 370', '₹ 1050', '₹ 49',\n",
       "       '₹ 699', '₹ 340', '₹ 190', '₹ 710', '₹ 1250', '₹ 178', '₹ 148',\n",
       "       '₹ 380', '₹ 257', '₹ 171', '₹ 193', '₹ 189', '₹ 197', '₹ 336',\n",
       "       '₹ 251', '₹ 245', '₹ 219', '₹ 188', '₹ 137', '₹ 164', '₹ 126',\n",
       "       '₹ 268', '₹ 421', '₹ 540', '₹ 239', '₹ 14', '₹ 259', '₹ 1400',\n",
       "       '₹ 497', '₹ 176', '₹ 255', '₹ 990', '₹ 158', '₹ 438', '₹ 354',\n",
       "       '₹ 483', '₹ 69', '₹ 398', '₹ 39', '₹ 560', '₹ 278', '₹ 3000',\n",
       "       '₹ 749', '₹ 2400', '₹ 950', '₹ 480', '₹ 258', '₹ 45', '₹ 359',\n",
       "       '₹ 119', '₹ 224', '₹ 385', '₹ 590', '₹ 703', '₹ 347', '₹ 363',\n",
       "       '₹ 790', '₹ 798', '₹ 15', '₹ 89', '₹ 355', '₹ 105', '₹ 719',\n",
       "       '₹ 1099', '₹ 289', '₹ 440', '₹ 420', '₹ 559', '₹ 215', '₹ 390',\n",
       "       '₹ 1', '₹ 138', '₹ 760', '₹ 595', '₹ 218', '₹ 65', '₹ 532',\n",
       "       '₹ 288', '₹ 292', '₹ 214', '₹ 267', '₹ 284', '₹ 283', '₹ 746',\n",
       "       '₹ 269', '₹ 287', '₹ 254', '₹ 502', '₹ 2022', '₹ 2500', '₹ 899',\n",
       "       '₹ 163', '₹ 182', '₹ 203', '₹ 296', '₹ 597', '₹ 327', '₹ 293',\n",
       "       '₹ 169', '₹ 799', '₹ 295', '₹ 263', '₹ 238', '₹ 378', '₹ 8000',\n",
       "       '₹ 28', '₹ 498', '₹ 490', '₹ 459', '₹ 3500', '₹ 209', '₹ 183',\n",
       "       '₹ 12', '₹ 79', '₹ 409', '₹ 196', '₹ 680', '₹ 888', '₹ 520',\n",
       "       '₹ 279', '₹ 147', '₹ 475', '₹ 348', '₹ 1700', '₹ 630', '₹ 152',\n",
       "       '₹ 580', '₹ 155', '₹ 1038', '₹ 384', '₹ 201', '₹ 111', '₹ 4',\n",
       "       '₹ 195', '₹ 313', '₹ 229', '₹ 265', '₹ 118', '₹ 357', '₹ 294',\n",
       "       '₹ 328', '₹ 640', '₹ 297', '₹ 430', '₹ 849', '₹ 649', '₹ 135',\n",
       "       '₹ 675', '₹ 115', '₹ 132', '₹ 151', '₹ 396', '₹ 95', '₹ 102',\n",
       "       '₹ 38', '₹ 3', '₹ 124', '₹ 106', '₹ 104', '₹ 32', '₹ 379', '₹ 98',\n",
       "       '₹ 526', '₹ 820', '₹ 620', '₹ 108', '₹ 2509', '₹ 285', '₹ 6000',\n",
       "       '₹ 5023', '₹ 204', '₹ 840', '₹ 839', '₹ 109', '₹ 308', '₹ 1650',\n",
       "       '₹ 305', '₹ 84', '₹ 574', '₹ 748', '₹ 318', '₹ 2100', '₹ 1290',\n",
       "       '₹ 57', '₹ 145', '₹ 185', '₹ 35', '₹ 458', '₹ 549', '₹ 660',\n",
       "       '₹ 1045', '₹ 24', '₹ 880', '₹ 1999', '₹ 300350', '₹ 338', '₹ 493',\n",
       "       '₹ 2200', '₹ 495', '₹ 444', '₹ 48', '₹ 780', '₹ 389', '₹ 3200',\n",
       "       '₹ 416', '₹ 3360', '₹ 530', '₹ 366', '₹ 96', '₹ 221', '₹ 564',\n",
       "       '₹ 920', '₹ 11', '₹ 395', '₹ 478', '₹ 208', '₹ 222', '₹ 144',\n",
       "       '₹ 236', '₹ 276', '₹ 333', '₹ 139', '₹ 29', '₹ 315', '₹ 3100',\n",
       "       '₹ 2700', '₹ 271', '₹ 351', '₹ 311', '₹ 286', '₹ 301', '₹ 256',\n",
       "       '₹ 507', '₹ 87', '₹ 211', '₹ 22', '₹ 26', '₹ 5000', '₹ 2800',\n",
       "       '₹ 598', '₹ 1001', '₹ 13', '₹ 156', '₹ 53', '₹ 165', '₹ 131',\n",
       "       '₹ 666', '₹ 1150', '₹ 1020', '₹ 277', '₹ 1199', '₹ 177', '₹ 518',\n",
       "       '₹ 54', '₹ 121', '₹ 670', '₹ 345', '₹ 94', '₹ 501', '₹ 216',\n",
       "       '₹ 625', '₹ 88', '₹ 101', '₹ 312', '₹ 448', '₹ 64'], dtype=object)"
      ]
     },
     "execution_count": 22,
     "metadata": {},
     "output_type": "execute_result"
    }
   ],
   "source": [
    "# To check the values for cost cloumns\n",
    "data[\"cost\"].unique()"
   ]
  },
  {
   "cell_type": "code",
   "execution_count": 23,
   "metadata": {},
   "outputs": [
    {
     "data": {
      "text/plain": [
       "cost\n",
       "₹ 200    38635\n",
       "₹ 300    29701\n",
       "₹ 250    19745\n",
       "₹ 150    12096\n",
       "₹ 400    11711\n",
       "         ...  \n",
       "₹ 216        1\n",
       "₹ 88         1\n",
       "₹ 101        1\n",
       "₹ 312        1\n",
       "₹ 64         1\n",
       "Name: count, Length: 363, dtype: int64"
      ]
     },
     "execution_count": 23,
     "metadata": {},
     "output_type": "execute_result"
    }
   ],
   "source": [
    "data[\"cost\"].value_counts()"
   ]
  },
  {
   "cell_type": "markdown",
   "metadata": {},
   "source": [
    "***from this cost cloumn we have a some values like '₹ 200', so we can remove \"₹\" in this cloumn before converting numerical***\n",
    "-"
   ]
  },
  {
   "cell_type": "markdown",
   "metadata": {},
   "source": [
    "***Removing some text  and converting the  3 cloumn into Numerical***\n",
    "-"
   ]
  },
  {
   "cell_type": "code",
   "execution_count": 24,
   "metadata": {},
   "outputs": [],
   "source": [
    "#Fom rating cloumn replace \"--\" to nan for purpouse of converting to Numeric\n",
    "data[\"rating\"]= data[\"rating\"].replace('--','4.0')\n",
    "\n",
    "#Fom rating_count cloumn replace 'Too Few Ratings' to '25' for purpouse of converting to Numeric\n",
    "data[\"rating_count\"] = data[\"rating_count\"].replace('Too Few Ratings','25')\n",
    "\n",
    "# from rating_count cloumn we can need only the number so we can extract the number based on index basics\n",
    "data[\"rating_count\"] = data[\"rating_count\"].astype(str).str[:3]\n",
    "\n",
    "#After getting the extracting numnber in rating_count cloumn we have \"+\" symbol so we can replace with \"\"(space)\n",
    "data[\"rating_count\"] = data[\"rating_count\"].str.replace(\"+\",\"\")\n",
    "\n",
    "# Replace \"k\" to \"000\" in the rating_count cloumn\n",
    "data[\"rating_count\"] = data[\"rating_count\"].str.replace(\"K\",\"000\")\n",
    "\n",
    "#Replace \"₹\" to \"\"(space) in the cost cloumn\n",
    "data[\"cost\"] = data[\"cost\"].str.replace(\"₹\", \"\")\n",
    "\n",
    "#To convert the rating cloumn object into float\n",
    "data[\"rating\"] = data[\"rating\"].astype(float)\n",
    "\n",
    "#To convert the rating_count cloumn object into float\n",
    "data[\"rating_count\"] = data[\"rating_count\"].astype(float)\n",
    "\n",
    "#To convert the cost cloumn object into float\n",
    "data[\"cost\"] = data[\"cost\"].astype(float)"
   ]
  },
  {
   "cell_type": "markdown",
   "metadata": {},
   "source": [
    "***After converting the 3 cloumns into numerical We can check null values***\n",
    "-"
   ]
  },
  {
   "cell_type": "code",
   "execution_count": 25,
   "metadata": {},
   "outputs": [
    {
     "name": "stdout",
     "output_type": "stream",
     "text": [
      "              Null Count  Null Percentage\n",
      "id                     0         0.000000\n",
      "name                  86         0.057896\n",
      "city                   0         0.000000\n",
      "rating                86         0.057896\n",
      "rating_count          86         0.057896\n",
      "cost                 131         0.088191\n",
      "cuisine               99         0.066648\n",
      "lic_no               229         0.154166\n",
      "link                   0         0.000000\n",
      "address               86         0.057896\n",
      "menu                   0         0.000000\n"
     ]
    }
   ],
   "source": [
    "\n",
    "# Calculate null values count\n",
    "null_counts = data.isnull().sum()\n",
    "\n",
    "# Calculate percentage of null values\n",
    "null_percentage = (null_counts / len(data)) *100\n",
    "\n",
    "# Combine both into a DataFrame\n",
    "null_info = pd.DataFrame({'Null Count': null_counts, 'Null Percentage': null_percentage})\n",
    "\n",
    "print(null_info)"
   ]
  },
  {
   "cell_type": "markdown",
   "metadata": {},
   "source": [
    "***From this null values we have rating and rating_count and name cloumns have same null values(86)***\n",
    "-"
   ]
  },
  {
   "cell_type": "markdown",
   "metadata": {},
   "source": [
    "***so we can check this 86 null values for this 3 cloumns***\n",
    "-"
   ]
  },
  {
   "cell_type": "code",
   "execution_count": 26,
   "metadata": {},
   "outputs": [
    {
     "data": {
      "text/html": [
       "<div>\n",
       "<style scoped>\n",
       "    .dataframe tbody tr th:only-of-type {\n",
       "        vertical-align: middle;\n",
       "    }\n",
       "\n",
       "    .dataframe tbody tr th {\n",
       "        vertical-align: top;\n",
       "    }\n",
       "\n",
       "    .dataframe thead th {\n",
       "        text-align: right;\n",
       "    }\n",
       "</style>\n",
       "<table border=\"1\" class=\"dataframe\">\n",
       "  <thead>\n",
       "    <tr style=\"text-align: right;\">\n",
       "      <th></th>\n",
       "      <th>id</th>\n",
       "      <th>name</th>\n",
       "      <th>city</th>\n",
       "      <th>rating</th>\n",
       "      <th>rating_count</th>\n",
       "      <th>cost</th>\n",
       "      <th>cuisine</th>\n",
       "      <th>lic_no</th>\n",
       "      <th>link</th>\n",
       "      <th>address</th>\n",
       "      <th>menu</th>\n",
       "    </tr>\n",
       "  </thead>\n",
       "  <tbody>\n",
       "    <tr>\n",
       "      <th>31044</th>\n",
       "      <td>397961</td>\n",
       "      <td>NaN</td>\n",
       "      <td>Greater Mohali,Chandigarh</td>\n",
       "      <td>NaN</td>\n",
       "      <td>NaN</td>\n",
       "      <td>NaN</td>\n",
       "      <td>NaN</td>\n",
       "      <td>NaN</td>\n",
       "      <td>https://www.swiggy.com/restaurants/5-tara-grea...</td>\n",
       "      <td>NaN</td>\n",
       "      <td>Menu/397961.json</td>\n",
       "    </tr>\n",
       "    <tr>\n",
       "      <th>32912</th>\n",
       "      <td>308071</td>\n",
       "      <td>NaN</td>\n",
       "      <td>West Chd,Chandigarh</td>\n",
       "      <td>NaN</td>\n",
       "      <td>NaN</td>\n",
       "      <td>NaN</td>\n",
       "      <td>NaN</td>\n",
       "      <td>NaN</td>\n",
       "      <td>https://www.swiggy.com/restaurants/food-under-...</td>\n",
       "      <td>NaN</td>\n",
       "      <td>Menu/308071.json</td>\n",
       "    </tr>\n",
       "    <tr>\n",
       "      <th>33046</th>\n",
       "      <td>308662</td>\n",
       "      <td>NaN</td>\n",
       "      <td>West Chd,Chandigarh</td>\n",
       "      <td>NaN</td>\n",
       "      <td>NaN</td>\n",
       "      <td>NaN</td>\n",
       "      <td>NaN</td>\n",
       "      <td>NaN</td>\n",
       "      <td>https://www.swiggy.com/restaurants/franks-frie...</td>\n",
       "      <td>NaN</td>\n",
       "      <td>Menu/308662.json</td>\n",
       "    </tr>\n",
       "    <tr>\n",
       "      <th>33488</th>\n",
       "      <td>170889</td>\n",
       "      <td>NaN</td>\n",
       "      <td>South Chd,Chandigarh</td>\n",
       "      <td>NaN</td>\n",
       "      <td>NaN</td>\n",
       "      <td>NaN</td>\n",
       "      <td>NaN</td>\n",
       "      <td>NaN</td>\n",
       "      <td>https://www.swiggy.com/restaurants/dhaba-7-pre...</td>\n",
       "      <td>NaN</td>\n",
       "      <td>Menu/170889.json</td>\n",
       "    </tr>\n",
       "    <tr>\n",
       "      <th>36492</th>\n",
       "      <td>390394</td>\n",
       "      <td>NaN</td>\n",
       "      <td>George Town,Chennai</td>\n",
       "      <td>NaN</td>\n",
       "      <td>NaN</td>\n",
       "      <td>NaN</td>\n",
       "      <td>NaN</td>\n",
       "      <td>NaN</td>\n",
       "      <td>https://www.swiggy.com/restaurants/frozen-cafe...</td>\n",
       "      <td>NaN</td>\n",
       "      <td>Menu/390394.json</td>\n",
       "    </tr>\n",
       "    <tr>\n",
       "      <th>...</th>\n",
       "      <td>...</td>\n",
       "      <td>...</td>\n",
       "      <td>...</td>\n",
       "      <td>...</td>\n",
       "      <td>...</td>\n",
       "      <td>...</td>\n",
       "      <td>...</td>\n",
       "      <td>...</td>\n",
       "      <td>...</td>\n",
       "      <td>...</td>\n",
       "      <td>...</td>\n",
       "    </tr>\n",
       "    <tr>\n",
       "      <th>137122</th>\n",
       "      <td>256827</td>\n",
       "      <td>NaN</td>\n",
       "      <td>Satara</td>\n",
       "      <td>NaN</td>\n",
       "      <td>NaN</td>\n",
       "      <td>NaN</td>\n",
       "      <td>NaN</td>\n",
       "      <td>NaN</td>\n",
       "      <td>https://www.swiggy.com/restaurants/rajdhani-pa...</td>\n",
       "      <td>NaN</td>\n",
       "      <td>Menu/256827.json</td>\n",
       "    </tr>\n",
       "    <tr>\n",
       "      <th>137546</th>\n",
       "      <td>567595</td>\n",
       "      <td>NaN</td>\n",
       "      <td>Shillong</td>\n",
       "      <td>NaN</td>\n",
       "      <td>NaN</td>\n",
       "      <td>NaN</td>\n",
       "      <td>NaN</td>\n",
       "      <td>NaN</td>\n",
       "      <td>https://www.swiggy.com/restaurants/the-blue-ri...</td>\n",
       "      <td>NaN</td>\n",
       "      <td>Menu/567595.json</td>\n",
       "    </tr>\n",
       "    <tr>\n",
       "      <th>137614</th>\n",
       "      <td>116615</td>\n",
       "      <td>NaN</td>\n",
       "      <td>Shivamogga</td>\n",
       "      <td>NaN</td>\n",
       "      <td>NaN</td>\n",
       "      <td>NaN</td>\n",
       "      <td>NaN</td>\n",
       "      <td>NaN</td>\n",
       "      <td>https://www.swiggy.com/restaurants/bakers-bowl...</td>\n",
       "      <td>NaN</td>\n",
       "      <td>Menu/116615.json</td>\n",
       "    </tr>\n",
       "    <tr>\n",
       "      <th>138380</th>\n",
       "      <td>401760</td>\n",
       "      <td>NaN</td>\n",
       "      <td>Sirsa</td>\n",
       "      <td>NaN</td>\n",
       "      <td>NaN</td>\n",
       "      <td>NaN</td>\n",
       "      <td>NaN</td>\n",
       "      <td>NaN</td>\n",
       "      <td>https://www.swiggy.com/restaurants/murga-dlf-p...</td>\n",
       "      <td>NaN</td>\n",
       "      <td>Menu/401760.json</td>\n",
       "    </tr>\n",
       "    <tr>\n",
       "      <th>141568</th>\n",
       "      <td>463812</td>\n",
       "      <td>NaN</td>\n",
       "      <td>Thiruvananthapuram</td>\n",
       "      <td>NaN</td>\n",
       "      <td>NaN</td>\n",
       "      <td>NaN</td>\n",
       "      <td>NaN</td>\n",
       "      <td>NaN</td>\n",
       "      <td>https://www.swiggy.com/restaurants/punjabi-dha...</td>\n",
       "      <td>NaN</td>\n",
       "      <td>Menu/463812.json</td>\n",
       "    </tr>\n",
       "  </tbody>\n",
       "</table>\n",
       "<p>86 rows × 11 columns</p>\n",
       "</div>"
      ],
      "text/plain": [
       "            id name                       city  rating  rating_count  cost  \\\n",
       "31044   397961  NaN  Greater Mohali,Chandigarh     NaN           NaN   NaN   \n",
       "32912   308071  NaN        West Chd,Chandigarh     NaN           NaN   NaN   \n",
       "33046   308662  NaN        West Chd,Chandigarh     NaN           NaN   NaN   \n",
       "33488   170889  NaN       South Chd,Chandigarh     NaN           NaN   NaN   \n",
       "36492   390394  NaN        George Town,Chennai     NaN           NaN   NaN   \n",
       "...        ...  ...                        ...     ...           ...   ...   \n",
       "137122  256827  NaN                     Satara     NaN           NaN   NaN   \n",
       "137546  567595  NaN                   Shillong     NaN           NaN   NaN   \n",
       "137614  116615  NaN                 Shivamogga     NaN           NaN   NaN   \n",
       "138380  401760  NaN                      Sirsa     NaN           NaN   NaN   \n",
       "141568  463812  NaN         Thiruvananthapuram     NaN           NaN   NaN   \n",
       "\n",
       "       cuisine lic_no                                               link  \\\n",
       "31044      NaN    NaN  https://www.swiggy.com/restaurants/5-tara-grea...   \n",
       "32912      NaN    NaN  https://www.swiggy.com/restaurants/food-under-...   \n",
       "33046      NaN    NaN  https://www.swiggy.com/restaurants/franks-frie...   \n",
       "33488      NaN    NaN  https://www.swiggy.com/restaurants/dhaba-7-pre...   \n",
       "36492      NaN    NaN  https://www.swiggy.com/restaurants/frozen-cafe...   \n",
       "...        ...    ...                                                ...   \n",
       "137122     NaN    NaN  https://www.swiggy.com/restaurants/rajdhani-pa...   \n",
       "137546     NaN    NaN  https://www.swiggy.com/restaurants/the-blue-ri...   \n",
       "137614     NaN    NaN  https://www.swiggy.com/restaurants/bakers-bowl...   \n",
       "138380     NaN    NaN  https://www.swiggy.com/restaurants/murga-dlf-p...   \n",
       "141568     NaN    NaN  https://www.swiggy.com/restaurants/punjabi-dha...   \n",
       "\n",
       "       address              menu  \n",
       "31044      NaN  Menu/397961.json  \n",
       "32912      NaN  Menu/308071.json  \n",
       "33046      NaN  Menu/308662.json  \n",
       "33488      NaN  Menu/170889.json  \n",
       "36492      NaN  Menu/390394.json  \n",
       "...        ...               ...  \n",
       "137122     NaN  Menu/256827.json  \n",
       "137546     NaN  Menu/567595.json  \n",
       "137614     NaN  Menu/116615.json  \n",
       "138380     NaN  Menu/401760.json  \n",
       "141568     NaN  Menu/463812.json  \n",
       "\n",
       "[86 rows x 11 columns]"
      ]
     },
     "execution_count": 26,
     "metadata": {},
     "output_type": "execute_result"
    }
   ],
   "source": [
    "# To check what are null values in rating cloumn\n",
    "data[data[\"rating\"].isnull()]"
   ]
  },
  {
   "cell_type": "code",
   "execution_count": 27,
   "metadata": {},
   "outputs": [
    {
     "data": {
      "text/html": [
       "<div>\n",
       "<style scoped>\n",
       "    .dataframe tbody tr th:only-of-type {\n",
       "        vertical-align: middle;\n",
       "    }\n",
       "\n",
       "    .dataframe tbody tr th {\n",
       "        vertical-align: top;\n",
       "    }\n",
       "\n",
       "    .dataframe thead th {\n",
       "        text-align: right;\n",
       "    }\n",
       "</style>\n",
       "<table border=\"1\" class=\"dataframe\">\n",
       "  <thead>\n",
       "    <tr style=\"text-align: right;\">\n",
       "      <th></th>\n",
       "      <th>id</th>\n",
       "      <th>name</th>\n",
       "      <th>city</th>\n",
       "      <th>rating</th>\n",
       "      <th>rating_count</th>\n",
       "      <th>cost</th>\n",
       "      <th>cuisine</th>\n",
       "      <th>lic_no</th>\n",
       "      <th>link</th>\n",
       "      <th>address</th>\n",
       "      <th>menu</th>\n",
       "    </tr>\n",
       "  </thead>\n",
       "  <tbody>\n",
       "    <tr>\n",
       "      <th>31044</th>\n",
       "      <td>397961</td>\n",
       "      <td>NaN</td>\n",
       "      <td>Greater Mohali,Chandigarh</td>\n",
       "      <td>NaN</td>\n",
       "      <td>NaN</td>\n",
       "      <td>NaN</td>\n",
       "      <td>NaN</td>\n",
       "      <td>NaN</td>\n",
       "      <td>https://www.swiggy.com/restaurants/5-tara-grea...</td>\n",
       "      <td>NaN</td>\n",
       "      <td>Menu/397961.json</td>\n",
       "    </tr>\n",
       "    <tr>\n",
       "      <th>32912</th>\n",
       "      <td>308071</td>\n",
       "      <td>NaN</td>\n",
       "      <td>West Chd,Chandigarh</td>\n",
       "      <td>NaN</td>\n",
       "      <td>NaN</td>\n",
       "      <td>NaN</td>\n",
       "      <td>NaN</td>\n",
       "      <td>NaN</td>\n",
       "      <td>https://www.swiggy.com/restaurants/food-under-...</td>\n",
       "      <td>NaN</td>\n",
       "      <td>Menu/308071.json</td>\n",
       "    </tr>\n",
       "    <tr>\n",
       "      <th>33046</th>\n",
       "      <td>308662</td>\n",
       "      <td>NaN</td>\n",
       "      <td>West Chd,Chandigarh</td>\n",
       "      <td>NaN</td>\n",
       "      <td>NaN</td>\n",
       "      <td>NaN</td>\n",
       "      <td>NaN</td>\n",
       "      <td>NaN</td>\n",
       "      <td>https://www.swiggy.com/restaurants/franks-frie...</td>\n",
       "      <td>NaN</td>\n",
       "      <td>Menu/308662.json</td>\n",
       "    </tr>\n",
       "    <tr>\n",
       "      <th>33488</th>\n",
       "      <td>170889</td>\n",
       "      <td>NaN</td>\n",
       "      <td>South Chd,Chandigarh</td>\n",
       "      <td>NaN</td>\n",
       "      <td>NaN</td>\n",
       "      <td>NaN</td>\n",
       "      <td>NaN</td>\n",
       "      <td>NaN</td>\n",
       "      <td>https://www.swiggy.com/restaurants/dhaba-7-pre...</td>\n",
       "      <td>NaN</td>\n",
       "      <td>Menu/170889.json</td>\n",
       "    </tr>\n",
       "    <tr>\n",
       "      <th>36492</th>\n",
       "      <td>390394</td>\n",
       "      <td>NaN</td>\n",
       "      <td>George Town,Chennai</td>\n",
       "      <td>NaN</td>\n",
       "      <td>NaN</td>\n",
       "      <td>NaN</td>\n",
       "      <td>NaN</td>\n",
       "      <td>NaN</td>\n",
       "      <td>https://www.swiggy.com/restaurants/frozen-cafe...</td>\n",
       "      <td>NaN</td>\n",
       "      <td>Menu/390394.json</td>\n",
       "    </tr>\n",
       "    <tr>\n",
       "      <th>...</th>\n",
       "      <td>...</td>\n",
       "      <td>...</td>\n",
       "      <td>...</td>\n",
       "      <td>...</td>\n",
       "      <td>...</td>\n",
       "      <td>...</td>\n",
       "      <td>...</td>\n",
       "      <td>...</td>\n",
       "      <td>...</td>\n",
       "      <td>...</td>\n",
       "      <td>...</td>\n",
       "    </tr>\n",
       "    <tr>\n",
       "      <th>137122</th>\n",
       "      <td>256827</td>\n",
       "      <td>NaN</td>\n",
       "      <td>Satara</td>\n",
       "      <td>NaN</td>\n",
       "      <td>NaN</td>\n",
       "      <td>NaN</td>\n",
       "      <td>NaN</td>\n",
       "      <td>NaN</td>\n",
       "      <td>https://www.swiggy.com/restaurants/rajdhani-pa...</td>\n",
       "      <td>NaN</td>\n",
       "      <td>Menu/256827.json</td>\n",
       "    </tr>\n",
       "    <tr>\n",
       "      <th>137546</th>\n",
       "      <td>567595</td>\n",
       "      <td>NaN</td>\n",
       "      <td>Shillong</td>\n",
       "      <td>NaN</td>\n",
       "      <td>NaN</td>\n",
       "      <td>NaN</td>\n",
       "      <td>NaN</td>\n",
       "      <td>NaN</td>\n",
       "      <td>https://www.swiggy.com/restaurants/the-blue-ri...</td>\n",
       "      <td>NaN</td>\n",
       "      <td>Menu/567595.json</td>\n",
       "    </tr>\n",
       "    <tr>\n",
       "      <th>137614</th>\n",
       "      <td>116615</td>\n",
       "      <td>NaN</td>\n",
       "      <td>Shivamogga</td>\n",
       "      <td>NaN</td>\n",
       "      <td>NaN</td>\n",
       "      <td>NaN</td>\n",
       "      <td>NaN</td>\n",
       "      <td>NaN</td>\n",
       "      <td>https://www.swiggy.com/restaurants/bakers-bowl...</td>\n",
       "      <td>NaN</td>\n",
       "      <td>Menu/116615.json</td>\n",
       "    </tr>\n",
       "    <tr>\n",
       "      <th>138380</th>\n",
       "      <td>401760</td>\n",
       "      <td>NaN</td>\n",
       "      <td>Sirsa</td>\n",
       "      <td>NaN</td>\n",
       "      <td>NaN</td>\n",
       "      <td>NaN</td>\n",
       "      <td>NaN</td>\n",
       "      <td>NaN</td>\n",
       "      <td>https://www.swiggy.com/restaurants/murga-dlf-p...</td>\n",
       "      <td>NaN</td>\n",
       "      <td>Menu/401760.json</td>\n",
       "    </tr>\n",
       "    <tr>\n",
       "      <th>141568</th>\n",
       "      <td>463812</td>\n",
       "      <td>NaN</td>\n",
       "      <td>Thiruvananthapuram</td>\n",
       "      <td>NaN</td>\n",
       "      <td>NaN</td>\n",
       "      <td>NaN</td>\n",
       "      <td>NaN</td>\n",
       "      <td>NaN</td>\n",
       "      <td>https://www.swiggy.com/restaurants/punjabi-dha...</td>\n",
       "      <td>NaN</td>\n",
       "      <td>Menu/463812.json</td>\n",
       "    </tr>\n",
       "  </tbody>\n",
       "</table>\n",
       "<p>86 rows × 11 columns</p>\n",
       "</div>"
      ],
      "text/plain": [
       "            id name                       city  rating  rating_count  cost  \\\n",
       "31044   397961  NaN  Greater Mohali,Chandigarh     NaN           NaN   NaN   \n",
       "32912   308071  NaN        West Chd,Chandigarh     NaN           NaN   NaN   \n",
       "33046   308662  NaN        West Chd,Chandigarh     NaN           NaN   NaN   \n",
       "33488   170889  NaN       South Chd,Chandigarh     NaN           NaN   NaN   \n",
       "36492   390394  NaN        George Town,Chennai     NaN           NaN   NaN   \n",
       "...        ...  ...                        ...     ...           ...   ...   \n",
       "137122  256827  NaN                     Satara     NaN           NaN   NaN   \n",
       "137546  567595  NaN                   Shillong     NaN           NaN   NaN   \n",
       "137614  116615  NaN                 Shivamogga     NaN           NaN   NaN   \n",
       "138380  401760  NaN                      Sirsa     NaN           NaN   NaN   \n",
       "141568  463812  NaN         Thiruvananthapuram     NaN           NaN   NaN   \n",
       "\n",
       "       cuisine lic_no                                               link  \\\n",
       "31044      NaN    NaN  https://www.swiggy.com/restaurants/5-tara-grea...   \n",
       "32912      NaN    NaN  https://www.swiggy.com/restaurants/food-under-...   \n",
       "33046      NaN    NaN  https://www.swiggy.com/restaurants/franks-frie...   \n",
       "33488      NaN    NaN  https://www.swiggy.com/restaurants/dhaba-7-pre...   \n",
       "36492      NaN    NaN  https://www.swiggy.com/restaurants/frozen-cafe...   \n",
       "...        ...    ...                                                ...   \n",
       "137122     NaN    NaN  https://www.swiggy.com/restaurants/rajdhani-pa...   \n",
       "137546     NaN    NaN  https://www.swiggy.com/restaurants/the-blue-ri...   \n",
       "137614     NaN    NaN  https://www.swiggy.com/restaurants/bakers-bowl...   \n",
       "138380     NaN    NaN  https://www.swiggy.com/restaurants/murga-dlf-p...   \n",
       "141568     NaN    NaN  https://www.swiggy.com/restaurants/punjabi-dha...   \n",
       "\n",
       "       address              menu  \n",
       "31044      NaN  Menu/397961.json  \n",
       "32912      NaN  Menu/308071.json  \n",
       "33046      NaN  Menu/308662.json  \n",
       "33488      NaN  Menu/170889.json  \n",
       "36492      NaN  Menu/390394.json  \n",
       "...        ...               ...  \n",
       "137122     NaN  Menu/256827.json  \n",
       "137546     NaN  Menu/567595.json  \n",
       "137614     NaN  Menu/116615.json  \n",
       "138380     NaN  Menu/401760.json  \n",
       "141568     NaN  Menu/463812.json  \n",
       "\n",
       "[86 rows x 11 columns]"
      ]
     },
     "execution_count": 27,
     "metadata": {},
     "output_type": "execute_result"
    }
   ],
   "source": [
    "# # To check what are null values in name cloumn\n",
    "data[data[\"name\"].isnull()]"
   ]
  },
  {
   "cell_type": "code",
   "execution_count": 28,
   "metadata": {},
   "outputs": [
    {
     "data": {
      "text/html": [
       "<div>\n",
       "<style scoped>\n",
       "    .dataframe tbody tr th:only-of-type {\n",
       "        vertical-align: middle;\n",
       "    }\n",
       "\n",
       "    .dataframe tbody tr th {\n",
       "        vertical-align: top;\n",
       "    }\n",
       "\n",
       "    .dataframe thead th {\n",
       "        text-align: right;\n",
       "    }\n",
       "</style>\n",
       "<table border=\"1\" class=\"dataframe\">\n",
       "  <thead>\n",
       "    <tr style=\"text-align: right;\">\n",
       "      <th></th>\n",
       "      <th>id</th>\n",
       "      <th>name</th>\n",
       "      <th>city</th>\n",
       "      <th>rating</th>\n",
       "      <th>rating_count</th>\n",
       "      <th>cost</th>\n",
       "      <th>cuisine</th>\n",
       "      <th>lic_no</th>\n",
       "      <th>link</th>\n",
       "      <th>address</th>\n",
       "      <th>menu</th>\n",
       "    </tr>\n",
       "  </thead>\n",
       "  <tbody>\n",
       "    <tr>\n",
       "      <th>31044</th>\n",
       "      <td>397961</td>\n",
       "      <td>NaN</td>\n",
       "      <td>Greater Mohali,Chandigarh</td>\n",
       "      <td>NaN</td>\n",
       "      <td>NaN</td>\n",
       "      <td>NaN</td>\n",
       "      <td>NaN</td>\n",
       "      <td>NaN</td>\n",
       "      <td>https://www.swiggy.com/restaurants/5-tara-grea...</td>\n",
       "      <td>NaN</td>\n",
       "      <td>Menu/397961.json</td>\n",
       "    </tr>\n",
       "    <tr>\n",
       "      <th>32912</th>\n",
       "      <td>308071</td>\n",
       "      <td>NaN</td>\n",
       "      <td>West Chd,Chandigarh</td>\n",
       "      <td>NaN</td>\n",
       "      <td>NaN</td>\n",
       "      <td>NaN</td>\n",
       "      <td>NaN</td>\n",
       "      <td>NaN</td>\n",
       "      <td>https://www.swiggy.com/restaurants/food-under-...</td>\n",
       "      <td>NaN</td>\n",
       "      <td>Menu/308071.json</td>\n",
       "    </tr>\n",
       "    <tr>\n",
       "      <th>33046</th>\n",
       "      <td>308662</td>\n",
       "      <td>NaN</td>\n",
       "      <td>West Chd,Chandigarh</td>\n",
       "      <td>NaN</td>\n",
       "      <td>NaN</td>\n",
       "      <td>NaN</td>\n",
       "      <td>NaN</td>\n",
       "      <td>NaN</td>\n",
       "      <td>https://www.swiggy.com/restaurants/franks-frie...</td>\n",
       "      <td>NaN</td>\n",
       "      <td>Menu/308662.json</td>\n",
       "    </tr>\n",
       "    <tr>\n",
       "      <th>33488</th>\n",
       "      <td>170889</td>\n",
       "      <td>NaN</td>\n",
       "      <td>South Chd,Chandigarh</td>\n",
       "      <td>NaN</td>\n",
       "      <td>NaN</td>\n",
       "      <td>NaN</td>\n",
       "      <td>NaN</td>\n",
       "      <td>NaN</td>\n",
       "      <td>https://www.swiggy.com/restaurants/dhaba-7-pre...</td>\n",
       "      <td>NaN</td>\n",
       "      <td>Menu/170889.json</td>\n",
       "    </tr>\n",
       "    <tr>\n",
       "      <th>36492</th>\n",
       "      <td>390394</td>\n",
       "      <td>NaN</td>\n",
       "      <td>George Town,Chennai</td>\n",
       "      <td>NaN</td>\n",
       "      <td>NaN</td>\n",
       "      <td>NaN</td>\n",
       "      <td>NaN</td>\n",
       "      <td>NaN</td>\n",
       "      <td>https://www.swiggy.com/restaurants/frozen-cafe...</td>\n",
       "      <td>NaN</td>\n",
       "      <td>Menu/390394.json</td>\n",
       "    </tr>\n",
       "    <tr>\n",
       "      <th>...</th>\n",
       "      <td>...</td>\n",
       "      <td>...</td>\n",
       "      <td>...</td>\n",
       "      <td>...</td>\n",
       "      <td>...</td>\n",
       "      <td>...</td>\n",
       "      <td>...</td>\n",
       "      <td>...</td>\n",
       "      <td>...</td>\n",
       "      <td>...</td>\n",
       "      <td>...</td>\n",
       "    </tr>\n",
       "    <tr>\n",
       "      <th>137122</th>\n",
       "      <td>256827</td>\n",
       "      <td>NaN</td>\n",
       "      <td>Satara</td>\n",
       "      <td>NaN</td>\n",
       "      <td>NaN</td>\n",
       "      <td>NaN</td>\n",
       "      <td>NaN</td>\n",
       "      <td>NaN</td>\n",
       "      <td>https://www.swiggy.com/restaurants/rajdhani-pa...</td>\n",
       "      <td>NaN</td>\n",
       "      <td>Menu/256827.json</td>\n",
       "    </tr>\n",
       "    <tr>\n",
       "      <th>137546</th>\n",
       "      <td>567595</td>\n",
       "      <td>NaN</td>\n",
       "      <td>Shillong</td>\n",
       "      <td>NaN</td>\n",
       "      <td>NaN</td>\n",
       "      <td>NaN</td>\n",
       "      <td>NaN</td>\n",
       "      <td>NaN</td>\n",
       "      <td>https://www.swiggy.com/restaurants/the-blue-ri...</td>\n",
       "      <td>NaN</td>\n",
       "      <td>Menu/567595.json</td>\n",
       "    </tr>\n",
       "    <tr>\n",
       "      <th>137614</th>\n",
       "      <td>116615</td>\n",
       "      <td>NaN</td>\n",
       "      <td>Shivamogga</td>\n",
       "      <td>NaN</td>\n",
       "      <td>NaN</td>\n",
       "      <td>NaN</td>\n",
       "      <td>NaN</td>\n",
       "      <td>NaN</td>\n",
       "      <td>https://www.swiggy.com/restaurants/bakers-bowl...</td>\n",
       "      <td>NaN</td>\n",
       "      <td>Menu/116615.json</td>\n",
       "    </tr>\n",
       "    <tr>\n",
       "      <th>138380</th>\n",
       "      <td>401760</td>\n",
       "      <td>NaN</td>\n",
       "      <td>Sirsa</td>\n",
       "      <td>NaN</td>\n",
       "      <td>NaN</td>\n",
       "      <td>NaN</td>\n",
       "      <td>NaN</td>\n",
       "      <td>NaN</td>\n",
       "      <td>https://www.swiggy.com/restaurants/murga-dlf-p...</td>\n",
       "      <td>NaN</td>\n",
       "      <td>Menu/401760.json</td>\n",
       "    </tr>\n",
       "    <tr>\n",
       "      <th>141568</th>\n",
       "      <td>463812</td>\n",
       "      <td>NaN</td>\n",
       "      <td>Thiruvananthapuram</td>\n",
       "      <td>NaN</td>\n",
       "      <td>NaN</td>\n",
       "      <td>NaN</td>\n",
       "      <td>NaN</td>\n",
       "      <td>NaN</td>\n",
       "      <td>https://www.swiggy.com/restaurants/punjabi-dha...</td>\n",
       "      <td>NaN</td>\n",
       "      <td>Menu/463812.json</td>\n",
       "    </tr>\n",
       "  </tbody>\n",
       "</table>\n",
       "<p>86 rows × 11 columns</p>\n",
       "</div>"
      ],
      "text/plain": [
       "            id name                       city  rating  rating_count  cost  \\\n",
       "31044   397961  NaN  Greater Mohali,Chandigarh     NaN           NaN   NaN   \n",
       "32912   308071  NaN        West Chd,Chandigarh     NaN           NaN   NaN   \n",
       "33046   308662  NaN        West Chd,Chandigarh     NaN           NaN   NaN   \n",
       "33488   170889  NaN       South Chd,Chandigarh     NaN           NaN   NaN   \n",
       "36492   390394  NaN        George Town,Chennai     NaN           NaN   NaN   \n",
       "...        ...  ...                        ...     ...           ...   ...   \n",
       "137122  256827  NaN                     Satara     NaN           NaN   NaN   \n",
       "137546  567595  NaN                   Shillong     NaN           NaN   NaN   \n",
       "137614  116615  NaN                 Shivamogga     NaN           NaN   NaN   \n",
       "138380  401760  NaN                      Sirsa     NaN           NaN   NaN   \n",
       "141568  463812  NaN         Thiruvananthapuram     NaN           NaN   NaN   \n",
       "\n",
       "       cuisine lic_no                                               link  \\\n",
       "31044      NaN    NaN  https://www.swiggy.com/restaurants/5-tara-grea...   \n",
       "32912      NaN    NaN  https://www.swiggy.com/restaurants/food-under-...   \n",
       "33046      NaN    NaN  https://www.swiggy.com/restaurants/franks-frie...   \n",
       "33488      NaN    NaN  https://www.swiggy.com/restaurants/dhaba-7-pre...   \n",
       "36492      NaN    NaN  https://www.swiggy.com/restaurants/frozen-cafe...   \n",
       "...        ...    ...                                                ...   \n",
       "137122     NaN    NaN  https://www.swiggy.com/restaurants/rajdhani-pa...   \n",
       "137546     NaN    NaN  https://www.swiggy.com/restaurants/the-blue-ri...   \n",
       "137614     NaN    NaN  https://www.swiggy.com/restaurants/bakers-bowl...   \n",
       "138380     NaN    NaN  https://www.swiggy.com/restaurants/murga-dlf-p...   \n",
       "141568     NaN    NaN  https://www.swiggy.com/restaurants/punjabi-dha...   \n",
       "\n",
       "       address              menu  \n",
       "31044      NaN  Menu/397961.json  \n",
       "32912      NaN  Menu/308071.json  \n",
       "33046      NaN  Menu/308662.json  \n",
       "33488      NaN  Menu/170889.json  \n",
       "36492      NaN  Menu/390394.json  \n",
       "...        ...               ...  \n",
       "137122     NaN  Menu/256827.json  \n",
       "137546     NaN  Menu/567595.json  \n",
       "137614     NaN  Menu/116615.json  \n",
       "138380     NaN  Menu/401760.json  \n",
       "141568     NaN  Menu/463812.json  \n",
       "\n",
       "[86 rows x 11 columns]"
      ]
     },
     "execution_count": 28,
     "metadata": {},
     "output_type": "execute_result"
    }
   ],
   "source": [
    "## To check what are null values in rating_count cloumn\n",
    "data[data[\"rating_count\"].isnull()]"
   ]
  },
  {
   "cell_type": "markdown",
   "metadata": {},
   "source": [
    "***Now we can check any relationship between  3 cloumns with city cloumn***\n",
    "-"
   ]
  },
  {
   "cell_type": "code",
   "execution_count": 29,
   "metadata": {},
   "outputs": [
    {
     "name": "stdout",
     "output_type": "stream",
     "text": [
      "Chi-Square Test p-value: 0.0\n",
      "✅ 'name' is dependent on 'city'\n"
     ]
    }
   ],
   "source": [
    "\n",
    "\n",
    "# Create a contingency table for 'name' vs 'city'\n",
    "contingency_table = pd.crosstab(data['name'], data['city'])\n",
    "\n",
    "# Perform Chi-Square Test\n",
    "chi2, p, dof, expected = stats.chi2_contingency(contingency_table)\n",
    "\n",
    "# Print p-value\n",
    "print(f'Chi-Square Test p-value: {p}')\n",
    "\n",
    "# Check significance\n",
    "if p < 0.05:\n",
    "    print(\"✅ 'name' is dependent on 'city'\")\n",
    "else:\n",
    "    print(\"❌ 'name' is NOT dependent on 'city'\")\n"
   ]
  },
  {
   "cell_type": "markdown",
   "metadata": {},
   "source": [
    "***from this chi_square test p value is 0.0 , so definetly the 3 cloumn have relationship with city cloumn , from oberservation we can impute the 3 cloumn based on city cloumn***\n",
    "-"
   ]
  },
  {
   "cell_type": "markdown",
   "metadata": {},
   "source": [
    "## **Hint**\n",
    ". we can impute name cloumn using mode() imputation method with groupby city because of grouby can check the value_counts of name with each city\n",
    ".similarly we can use same method for rating and rating_count with median imputation method \n",
    "-"
   ]
  },
  {
   "cell_type": "code",
   "execution_count": 30,
   "metadata": {},
   "outputs": [],
   "source": [
    "# Fill missing 'name' with the most common name in the same city\n",
    "data['name'] = data.groupby('city')['name'].transform(lambda x: x.fillna(x.mode()[0]))\n",
    "\n",
    "# Fill missing 'rating' with the median in the same city\n",
    "data['rating'] = data.groupby('city')['rating'].transform(lambda x: x.fillna(x.median()))\n",
    "\n",
    "# Fill missing 'rating' with the median in the same city\n",
    "data['rating_count'] = data.groupby('city')['rating_count'].transform(lambda x: x.fillna(x.median()))\n",
    "\n",
    "#Fill missing 'cost' with the mean in the same city\n",
    "data['cost'] = data.groupby('city')['cost'].transform(lambda x: x.fillna(x.mean()))\n",
    "\n",
    "# After we have some low amount null values in this 3 cloumns we can drop the null values\n",
    "data.dropna(subset=[\"cuisine\", \"lic_no\", \"address\"], inplace=True)\n"
   ]
  },
  {
   "cell_type": "markdown",
   "metadata": {},
   "source": [
    "***NOW WE CAN CHECK THE NULL VALUES FOR AFTER IMPUTATION***\n",
    "-"
   ]
  },
  {
   "cell_type": "code",
   "execution_count": 31,
   "metadata": {},
   "outputs": [
    {
     "name": "stdout",
     "output_type": "stream",
     "text": [
      "              Null Count  Null Percentage\n",
      "id                     0              0.0\n",
      "name                   0              0.0\n",
      "city                   0              0.0\n",
      "rating                 0              0.0\n",
      "rating_count           0              0.0\n",
      "cost                   0              0.0\n",
      "cuisine                0              0.0\n",
      "lic_no                 0              0.0\n",
      "link                   0              0.0\n",
      "address                0              0.0\n",
      "menu                   0              0.0\n"
     ]
    }
   ],
   "source": [
    "\n",
    "# Calculate null values count\n",
    "null_counts = data.isnull().sum()\n",
    "\n",
    "# Calculate percentage of null values\n",
    "null_percentage = (null_counts / len(data)) *100\n",
    "\n",
    "# Combine both into a DataFrame\n",
    "null_info = pd.DataFrame({'Null Count': null_counts, 'Null Percentage': null_percentage})\n",
    "\n",
    "print(null_info)\n"
   ]
  },
  {
   "cell_type": "code",
   "execution_count": 32,
   "metadata": {},
   "outputs": [
    {
     "data": {
      "text/plain": [
       "(148299, 11)"
      ]
     },
     "execution_count": 32,
     "metadata": {},
     "output_type": "execute_result"
    }
   ],
   "source": [
    "#check the shape of dataframe after imputation\n",
    "data.shape"
   ]
  },
  {
   "cell_type": "markdown",
   "metadata": {},
   "source": [
    "***The shape before imputation was (148541, 11),and after imputation,it's (148299, 11).This means that 242 rows were removed during the imputation*** \n",
    "-"
   ]
  },
  {
   "cell_type": "markdown",
   "metadata": {},
   "source": [
    "***Now we can convert the cleaned data in csv file for feature Analysis***"
   ]
  },
  {
   "cell_type": "code",
   "execution_count": 33,
   "metadata": {},
   "outputs": [],
   "source": [
    "#To convert into csv file\n",
    "data.to_csv(\"cleaned_data.csv\", index=False)"
   ]
  },
  {
   "cell_type": "markdown",
   "metadata": {},
   "source": [
    "***NOW WE CAN DO SOME VISULATION AND ANALYSIS FOR THIS DATA***\n",
    "-"
   ]
  },
  {
   "cell_type": "code",
   "execution_count": 34,
   "metadata": {},
   "outputs": [
    {
     "data": {
      "image/png": "[encoded data removed]",
      "text/plain": [
       "<Figure size 1200x600 with 1 Axes>"
      ]
     },
     "metadata": {},
     "output_type": "display_data"
    }
   ],
   "source": [
    "\n",
    "# Get the top 20 most frequent restaurant names\n",
    "top_20_names = data['name'].value_counts().head(20)\n",
    "\n",
    "# Plot the visulation\n",
    "plt.figure(figsize=(12, 6))\n",
    "sns.barplot(x=top_20_names.values, y=top_20_names.index,  palette=\"pastel\")\n",
    "\n",
    "#labels and titles\n",
    "plt.xlabel(\"Count\")\n",
    "plt.ylabel(\"Restaurant Name\")\n",
    "plt.title(\"Top 20 Most Frequent Restaurant Names\")\n",
    "plt.show()"
   ]
  },
  {
   "cell_type": "markdown",
   "metadata": {},
   "source": [
    "***Key Insights:***\n",
    "-\n",
    "Domino's Pizza has the highest frequency, meaning it appears the most in the dataset.\n",
    "\n",
    "Popular chains like Pizza Hut, KFC, Baskin Robbins, Subway, and McDonald's are among the most frequently listed restaurants.\n",
    "\n",
    "Ice cream brands (Kwality Walls, NIC Natural Ice Creams, Grameen Kulfi) and dessert brands (Sweet Truth, The Belgian Waffle Co.) are also common.\n",
    "\n",
    "The dataset likely includes many fast-food and dessert-focused restaurants.\n",
    "\n"
   ]
  },
  {
   "cell_type": "code",
   "execution_count": 35,
   "metadata": {},
   "outputs": [
    {
     "data": {
      "image/png": "[encoded data removed]",
      "text/plain": [
       "<Figure size 1400x700 with 2 Axes>"
      ]
     },
     "metadata": {},
     "output_type": "display_data"
    }
   ],
   "source": [
    "\n",
    "# Select top 10 and bottom 10 cuisines\n",
    "top_cuisines = data[\"cuisine\"].value_counts().head(10)\n",
    "bottom_cuisines = data[\"cuisine\"].value_counts().tail(10)\n",
    "\n",
    "# Create subplots\n",
    "fig, axes = plt.subplots(1, 2, figsize=(14, 7))\n",
    "\n",
    "# Top 10 Cuisines Pie Chart\n",
    "axes[0].pie(top_cuisines, labels=top_cuisines.index, autopct=\"%1.1f%%\", colors=sns.color_palette(\"muted\"))\n",
    "axes[0].set_title(\"Top 10 Cuisine Distribution\")\n",
    "\n",
    "# Bottom 10 Cuisines Pie Chart\n",
    "axes[1].pie(bottom_cuisines, labels=bottom_cuisines.index, autopct=\"%1.1f%%\", colors=sns.color_palette(\"muted\"))\n",
    "axes[1].set_title(\"Bottom 10 Cuisine Distribution\")\n",
    "\n",
    "plt.tight_layout()\n",
    "plt.show()\n"
   ]
  },
  {
   "cell_type": "markdown",
   "metadata": {},
   "source": [
    "***Insights from the Visualization:***\n",
    "-\n",
    ">Top 10 Cuisine Distribution:\n",
    "\n",
    "The most popular cuisines include Indian, Chinese, North Indian, and South Indian.\n",
    "\n",
    "Indian cuisine has the highest presence, followed by Chinese and North Indian.\n",
    "\n",
    ">Bottom 10 Cuisine Distribution:\n",
    "\n",
    "These cuisines have the lowest presence in the dataset.\n",
    "\n",
    "Regional and fusion cuisines such as Gujarati-Italian, Tibetan-Arabian, and Khasi appear in this category.\n",
    "\n",
    "Less common food types like Japanese-Fast Food and Continental-Hyderabadi are also included.\n"
   ]
  },
  {
   "cell_type": "code",
   "execution_count": 36,
   "metadata": {},
   "outputs": [
    {
     "data": {
      "image/png": "[encoded data removed]",
      "text/plain": [
       "<Figure size 1200x600 with 1 Axes>"
      ]
     },
     "metadata": {},
     "output_type": "display_data"
    }
   ],
   "source": [
    "# Group by cuisine and calculate the average cost\n",
    "top_cuisines_by_cost = data.groupby(\"cuisine\")[\"cost\"].mean().sort_values(ascending=False).head(10)\n",
    "\n",
    "# Plot the results\n",
    "plt.figure(figsize=(12, 6))\n",
    "sns.barplot(x=top_cuisines_by_cost.index, y=top_cuisines_by_cost.values, palette=\"viridis\")\n",
    "#labels and titles\n",
    "plt.xticks(rotation=90)\n",
    "plt.xlabel(\"Cuisine Type\")\n",
    "plt.ylabel(\"Average Cost\")\n",
    "plt.title(\"Top 10 Most Expensive Cuisines Based on Average Cost\")\n",
    "plt.show()\n"
   ]
  },
  {
   "cell_type": "markdown",
   "metadata": {},
   "source": [
    "***Insights from the Visualization:***\n",
    "-\n",
    "Top Expensive Cuisines – The cuisines with the highest average cost are shown, making it easier to understand which ones are premium.\n",
    "\n",
    "Sri Lankan & Japanese-Mughlai – These two cuisines have the highest average cost, indicating they might include high-end ingredients or fine dining experiences.\n",
    "\n",
    "European, Seafood & Turkish Influence – Many of the top cuisines have a mix of European and seafood, possibly because of expensive imported ingredients."
   ]
  },
  {
   "cell_type": "code",
   "execution_count": 37,
   "metadata": {},
   "outputs": [],
   "source": [
    "#To Read the csv file and drop cloumns like lic_no, link, address and menu\n",
    "data_cleaned =pd.read_csv(\"cleaned_data.csv\").drop(columns=['lic_no', 'link', 'address', 'menu'])\n"
   ]
  },
  {
   "cell_type": "code",
   "execution_count": 38,
   "metadata": {},
   "outputs": [],
   "source": [
    "# Extract only the city name (after the last comma) and remove any surrounding spaces\n",
    "data_cleaned['city'] = data_cleaned['city'].str.split(',').str[-1].str.strip()\n",
    "\n",
    "# Split the 'cuisine' string into a list and strip spaces from each item\n",
    "data_cleaned['cuisine'] = data_cleaned['cuisine'].str.split(',').apply(lambda x: [i.strip() for i in x])\n",
    "\n",
    "# Initialize the MultiLabelBinarizer to convert list-type cuisines into one-hot encoded format\n",
    "mlb = MultiLabelBinarizer()\n",
    "\n",
    "# Transform the 'cuisine' column into multiple binary columns (one per unique cuisine)\n",
    "cuisine_encoded = pd.DataFrame(mlb.fit_transform(data_cleaned['cuisine']), columns=mlb.classes_)"
   ]
  },
  {
   "cell_type": "code",
   "execution_count": 39,
   "metadata": {},
   "outputs": [
    {
     "name": "stdout",
     "output_type": "stream",
     "text": [
      "['8:15 To 11:30 Pm', 'Afghani', 'African', 'American', 'Andhra', 'Arabian', 'Asian', 'Assamese', 'Attractive Combos Available', 'Australian', 'Awadhi', 'BEVERAGE', 'Bakery', 'Bakery products', 'Bangladeshi', 'Barbecue', 'Bengali', 'Beverages', 'Bhutanese', 'Bihari', 'Biryani', 'Biryani - Shivaji Military Hotel', 'Bowl Company', 'British', 'Burgers', 'Burmese', 'Cafe', 'Chaat', 'Chettinad', 'Chinese', 'Coastal', 'Code valid on bill over Rs.99', 'Combo', 'Continental', 'Default', 'Desserts', 'Discount offer from Garden Cafe Express Kankurgachi', 'European', 'Fast Food', 'Free Delivery ! Limited Stocks!', 'French', 'German', 'Goan', 'Greek', 'Grill', 'Grocery products', 'Gujarati', 'Haleem', 'Healthy Food', 'Home Food', 'Hyderabadi', 'Ice Cream', 'Ice Cream Cakes', 'Indian', 'Indonesian', 'Italian', 'Italian-American', 'Jain', 'Japanese', 'Juices', 'Kashmiri', 'Kebabs', 'Kerala', 'Keto', 'Khasi', 'Konkan', 'Korean', 'Lebanese', 'Lucknowi', 'MAX 2 Combos per Order!', 'Maharashtrian', 'Malaysian', 'Malwani', 'Mangalorean', 'Meat', 'Mediterranean', 'Mexican', 'Middle Eastern', 'Mongolian', 'Mughlai', 'Naga', 'Navratri Special', 'Nepalese', 'North Eastern', 'North Indian', 'Oriental', 'Oriya', 'Paan', 'Pan-Asian', 'Parsi', 'Pastas', 'Persian', 'Pizzas', 'Popular Brand Store', 'Portuguese', 'Punjabi', 'Rajasthani', 'Rayalaseema', 'SVANidhi Street Food Vendor', 'Salads', 'Seafood', 'Sindhi', 'Singaporean', 'Snacks', 'South American', 'South Indian', 'Spanish', 'Special Discount from (Hotel Swagath)', 'Sri Lankan', 'Steakhouse', 'Street Food', 'Sushi', 'Sweets', 'Tandoor', 'Telangana', 'Tex-Mex', 'Thai', 'Thalis', 'Tibetan', 'Tribal', 'Turkish', 'Use Code JUMBO30 to avail', 'Use code XPRESS121 to avail.', 'Vietnamese', 'Waffle', 'indian']\n"
     ]
    }
   ],
   "source": [
    "print(cuisine_encoded.columns.tolist())\n"
   ]
  },
  {
   "cell_type": "code",
   "execution_count": 40,
   "metadata": {},
   "outputs": [],
   "source": [
    "# Save column names to a CSV file\n",
    "pd.Series(cuisine_encoded.columns).to_csv(\"cuisine_columns.csv\", index=False, header=[\"cuisine_column\"])\n"
   ]
  },
  {
   "cell_type": "code",
   "execution_count": 41,
   "metadata": {},
   "outputs": [],
   "source": [
    "# Numerical columns\n",
    "numerical_cols = data_cleaned[['rating', 'rating_count', 'cost']]\n",
    "\n",
    "# intiliaze the one_hot encoder \n",
    "city_encoder = OneHotEncoder(handle_unknown='ignore', sparse_output=False)\n",
    "\n",
    "#Apply one hot encoder for city cloumn and get features\n",
    "city_encoded = pd.DataFrame(city_encoder.fit_transform(data_cleaned[['city']]), \n",
    "                            columns=city_encoder.get_feature_names_out(['city']))\n",
    "# Combine all\n",
    "final_encoded = pd.concat([numerical_cols, city_encoded, cuisine_encoded], axis=1)\n"
   ]
  },
  {
   "cell_type": "code",
   "execution_count": 42,
   "metadata": {},
   "outputs": [],
   "source": [
    "# Save MultiLabelBinarizer for cuisine\n",
    "with open(\"cuisine_encoder.pkl\", \"wb\") as f:\n",
    "    pickle.dump(mlb, f)\n",
    "\n",
    "# Save OneHotEncoder for city\n",
    "with open(\"city_encoder.pkl\", \"wb\") as f:\n",
    "    pickle.dump(city_encoder, f)\n"
   ]
  },
  {
   "cell_type": "code",
   "execution_count": 43,
   "metadata": {},
   "outputs": [],
   "source": [
    "# Save column names to a CSV file\n",
    "pd.Series(city_encoded.columns).to_csv(\"city_columns.csv\", index=False, header=[\"city_column\"])\n",
    "\n",
    "# Save column names to a CSV file\n",
    "pd.Series(cuisine_encoded.columns).to_csv(\"cuisine_columns.csv\", index=False, header=[\"cuisine_column\"])\n"
   ]
  },
  {
   "cell_type": "code",
   "execution_count": 44,
   "metadata": {},
   "outputs": [
    {
     "data": {
      "text/plain": [
       "(148299, 681)"
      ]
     },
     "execution_count": 44,
     "metadata": {},
     "output_type": "execute_result"
    }
   ],
   "source": [
    "# To check the shape of dataset\n",
    "final_encoded.shape"
   ]
  },
  {
   "cell_type": "code",
   "execution_count": 45,
   "metadata": {},
   "outputs": [
    {
     "name": "stdout",
     "output_type": "stream",
     "text": [
      "True\n"
     ]
    }
   ],
   "source": [
    "#To check the index for both csv\n",
    "print(data_cleaned.index.equals(final_encoded.index))\n"
   ]
  },
  {
   "cell_type": "code",
   "execution_count": 46,
   "metadata": {},
   "outputs": [],
   "source": [
    "#To convert into csv file\n",
    "data_cleaned.to_csv(\"data_cleanded.csv\", index=False)\n",
    "\n",
    "#To convert into Encoded csv file\n",
    "final_encoded.to_csv(\"encoded_data.csv\", index=False)"
   ]
  },
  {
   "cell_type": "code",
   "execution_count": 47,
   "metadata": {},
   "outputs": [
    {
     "name": "stdout",
     "output_type": "stream",
     "text": [
      "✅ KMeans and Scaler saved successfully!\n"
     ]
    }
   ],
   "source": [
    "# --- Scale data ---\n",
    "scaler = StandardScaler()\n",
    "scaled_data = scaler.fit_transform(final_encoded)\n",
    "\n",
    "\n",
    "# --- Apply PCA ---\n",
    "pca= PCA(n_components=30)  # You can increase/decrease depending on variance explained\n",
    "pca_data = pca.fit_transform(scaled_data)\n",
    "\n",
    "# --- Train KMeans ---\n",
    "kmeans = KMeans(n_clusters=10, random_state=42,n_init=10)  # you can tune n_clusters\n",
    "kmeans.fit(pca_data)\n",
    "\n",
    "# --- Save PCA-transformed data ---\n",
    "pd.DataFrame(pca_data).to_csv(\"pca_encoded_data.csv\", index=False)\n",
    "\n",
    "# --- Save PCA model ---\n",
    "with open(\"pca_model.pkl\", \"wb\") as f:\n",
    "    pickle.dump(pca, f)\n",
    "\n",
    "# --- Save models ---\n",
    "with open(\"kmeans_model.pkl\", \"wb\") as f:\n",
    "    pickle.dump(kmeans, f)\n",
    "\n",
    "with open(\"scaler.pkl\", \"wb\") as f:\n",
    "    pickle.dump(scaler, f)\n",
    "\n",
    "print(\"✅ KMeans and Scaler saved successfully!\")\n"
   ]
  },
  {
   "cell_type": "code",
   "execution_count": 48,
   "metadata": {},
   "outputs": [],
   "source": [
    "# ✅ Save input column order for matching later\n",
    "with open(\"pca_input_columns.pkl\", \"wb\") as f:\n",
    "    pickle.dump(final_encoded.columns.tolist(), f)"
   ]
  }
 ],
 "metadata": {
  "kernelspec": {
   "display_name": "Python 3",
   "language": "python",
   "name": "python3"
  },
  "language_info": {
   "codemirror_mode": {
    "name": "ipython",
    "version": 3
   },
   "file_extension": ".py",
   "mimetype": "text/x-python",
   "name": "python",
   "nbconvert_exporter": "python",
   "pygments_lexer": "ipython3",
   "version": "3.13.2"
  }
 },
 "nbformat": 4,
 "nbformat_minor": 2
}
